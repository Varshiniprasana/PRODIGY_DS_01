{
 "cells": [
  {
   "cell_type": "code",
   "execution_count": 1,
   "id": "bb0ec580",
   "metadata": {},
   "outputs": [],
   "source": [
    "import pandas as pd\n",
    "import numpy as np\n",
    "import matplotlib as plt\n",
    "import seaborn as sns"
   ]
  },
  {
   "cell_type": "code",
   "execution_count": 2,
   "id": "f2b880d1",
   "metadata": {},
   "outputs": [
    {
     "data": {
      "text/html": [
       "<div>\n",
       "<style scoped>\n",
       "    .dataframe tbody tr th:only-of-type {\n",
       "        vertical-align: middle;\n",
       "    }\n",
       "\n",
       "    .dataframe tbody tr th {\n",
       "        vertical-align: top;\n",
       "    }\n",
       "\n",
       "    .dataframe thead th {\n",
       "        text-align: right;\n",
       "    }\n",
       "</style>\n",
       "<table border=\"1\" class=\"dataframe\">\n",
       "  <thead>\n",
       "    <tr style=\"text-align: right;\">\n",
       "      <th></th>\n",
       "      <th>Passenger ID</th>\n",
       "      <th>First Name</th>\n",
       "      <th>Last Name</th>\n",
       "      <th>Gender</th>\n",
       "      <th>Age</th>\n",
       "      <th>Nationality</th>\n",
       "      <th>Airport Name</th>\n",
       "      <th>Airport Country Code</th>\n",
       "      <th>Country Name</th>\n",
       "      <th>Airport Continent</th>\n",
       "      <th>Continents</th>\n",
       "      <th>Departure Date</th>\n",
       "      <th>Arrival Airport</th>\n",
       "      <th>Pilot Name</th>\n",
       "      <th>Flight Status</th>\n",
       "    </tr>\n",
       "  </thead>\n",
       "  <tbody>\n",
       "    <tr>\n",
       "      <th>0</th>\n",
       "      <td>ABVWIg</td>\n",
       "      <td>Edithe</td>\n",
       "      <td>Leggis</td>\n",
       "      <td>Female</td>\n",
       "      <td>62</td>\n",
       "      <td>Japan</td>\n",
       "      <td>Coldfoot Airport</td>\n",
       "      <td>US</td>\n",
       "      <td>United States</td>\n",
       "      <td>NAM</td>\n",
       "      <td>North America</td>\n",
       "      <td>6/28/2022</td>\n",
       "      <td>CXF</td>\n",
       "      <td>Fransisco Hazeldine</td>\n",
       "      <td>On Time</td>\n",
       "    </tr>\n",
       "    <tr>\n",
       "      <th>1</th>\n",
       "      <td>jkXXAX</td>\n",
       "      <td>Elwood</td>\n",
       "      <td>Catt</td>\n",
       "      <td>Male</td>\n",
       "      <td>62</td>\n",
       "      <td>Nicaragua</td>\n",
       "      <td>Kugluktuk Airport</td>\n",
       "      <td>CA</td>\n",
       "      <td>Canada</td>\n",
       "      <td>NAM</td>\n",
       "      <td>North America</td>\n",
       "      <td>12/26/2022</td>\n",
       "      <td>YCO</td>\n",
       "      <td>Marla Parsonage</td>\n",
       "      <td>On Time</td>\n",
       "    </tr>\n",
       "    <tr>\n",
       "      <th>2</th>\n",
       "      <td>CdUz2g</td>\n",
       "      <td>Darby</td>\n",
       "      <td>Felgate</td>\n",
       "      <td>Male</td>\n",
       "      <td>67</td>\n",
       "      <td>Russia</td>\n",
       "      <td>Grenoble-Isère Airport</td>\n",
       "      <td>FR</td>\n",
       "      <td>France</td>\n",
       "      <td>EU</td>\n",
       "      <td>Europe</td>\n",
       "      <td>1/18/2022</td>\n",
       "      <td>GNB</td>\n",
       "      <td>Rhonda Amber</td>\n",
       "      <td>On Time</td>\n",
       "    </tr>\n",
       "    <tr>\n",
       "      <th>3</th>\n",
       "      <td>BRS38V</td>\n",
       "      <td>Dominica</td>\n",
       "      <td>Pyle</td>\n",
       "      <td>Female</td>\n",
       "      <td>71</td>\n",
       "      <td>China</td>\n",
       "      <td>Ottawa / Gatineau Airport</td>\n",
       "      <td>CA</td>\n",
       "      <td>Canada</td>\n",
       "      <td>NAM</td>\n",
       "      <td>North America</td>\n",
       "      <td>9/16/2022</td>\n",
       "      <td>YND</td>\n",
       "      <td>Kacie Commucci</td>\n",
       "      <td>Delayed</td>\n",
       "    </tr>\n",
       "    <tr>\n",
       "      <th>4</th>\n",
       "      <td>9kvTLo</td>\n",
       "      <td>Bay</td>\n",
       "      <td>Pencost</td>\n",
       "      <td>Male</td>\n",
       "      <td>21</td>\n",
       "      <td>China</td>\n",
       "      <td>Gillespie Field</td>\n",
       "      <td>US</td>\n",
       "      <td>United States</td>\n",
       "      <td>NAM</td>\n",
       "      <td>North America</td>\n",
       "      <td>2/25/2022</td>\n",
       "      <td>SEE</td>\n",
       "      <td>Ebonee Tree</td>\n",
       "      <td>On Time</td>\n",
       "    </tr>\n",
       "  </tbody>\n",
       "</table>\n",
       "</div>"
      ],
      "text/plain": [
       "  Passenger ID First Name Last Name  Gender  Age Nationality  \\\n",
       "0       ABVWIg     Edithe    Leggis  Female   62       Japan   \n",
       "1       jkXXAX     Elwood      Catt    Male   62   Nicaragua   \n",
       "2       CdUz2g      Darby   Felgate    Male   67      Russia   \n",
       "3       BRS38V   Dominica      Pyle  Female   71       China   \n",
       "4       9kvTLo        Bay   Pencost    Male   21       China   \n",
       "\n",
       "                Airport Name Airport Country Code   Country Name  \\\n",
       "0           Coldfoot Airport                   US  United States   \n",
       "1          Kugluktuk Airport                   CA         Canada   \n",
       "2     Grenoble-Isère Airport                   FR         France   \n",
       "3  Ottawa / Gatineau Airport                   CA         Canada   \n",
       "4            Gillespie Field                   US  United States   \n",
       "\n",
       "  Airport Continent     Continents Departure Date Arrival Airport  \\\n",
       "0               NAM  North America      6/28/2022             CXF   \n",
       "1               NAM  North America     12/26/2022             YCO   \n",
       "2                EU         Europe      1/18/2022             GNB   \n",
       "3               NAM  North America      9/16/2022             YND   \n",
       "4               NAM  North America      2/25/2022             SEE   \n",
       "\n",
       "            Pilot Name Flight Status  \n",
       "0  Fransisco Hazeldine       On Time  \n",
       "1      Marla Parsonage       On Time  \n",
       "2         Rhonda Amber       On Time  \n",
       "3       Kacie Commucci       Delayed  \n",
       "4          Ebonee Tree       On Time  "
      ]
     },
     "execution_count": 2,
     "metadata": {},
     "output_type": "execute_result"
    }
   ],
   "source": [
    "df = pd.read_csv(r'C:\\Users\\VARSHINI\\OneDrive\\Desktop\\Airline Dataset Updated - v2.csv')\n",
    "df.head()"
   ]
  },
  {
   "cell_type": "code",
   "execution_count": 3,
   "id": "799381df",
   "metadata": {},
   "outputs": [
    {
     "data": {
      "text/plain": [
       "<bound method DataFrame.info of       Passenger ID  First Name  Last Name  Gender  Age Nationality  \\\n",
       "0           ABVWIg      Edithe     Leggis  Female   62       Japan   \n",
       "1           jkXXAX      Elwood       Catt    Male   62   Nicaragua   \n",
       "2           CdUz2g       Darby    Felgate    Male   67      Russia   \n",
       "3           BRS38V    Dominica       Pyle  Female   71       China   \n",
       "4           9kvTLo         Bay    Pencost    Male   21       China   \n",
       "...            ...         ...        ...     ...  ...         ...   \n",
       "98614       hnGQ62      Gareth    Mugford    Male   85       China   \n",
       "98615       2omEzh       Kasey   Benedict  Female   19      Russia   \n",
       "98616       VUPiVG      Darrin     Lucken    Male   65   Indonesia   \n",
       "98617       E47NtS       Gayle  Lievesley  Female   34       China   \n",
       "98618       8JYEcz  Wilhelmine     Touret  Female   10      Poland   \n",
       "\n",
       "                      Airport Name Airport Country Code        Country Name  \\\n",
       "0                 Coldfoot Airport                   US       United States   \n",
       "1                Kugluktuk Airport                   CA              Canada   \n",
       "2           Grenoble-Isère Airport                   FR              France   \n",
       "3        Ottawa / Gatineau Airport                   CA              Canada   \n",
       "4                  Gillespie Field                   US       United States   \n",
       "...                            ...                  ...                 ...   \n",
       "98614               Hasvik Airport                   NO              Norway   \n",
       "98615          Ampampamena Airport                   MG          Madagascar   \n",
       "98616  Albacete-Los Llanos Airport                   ES               Spain   \n",
       "98617               Gagnoa Airport                   CI       Côte d'Ivoire   \n",
       "98618          Yoshkar-Ola Airport                   RU  Russian Federation   \n",
       "\n",
       "      Airport Continent     Continents Departure Date Arrival Airport  \\\n",
       "0                   NAM  North America      6/28/2022             CXF   \n",
       "1                   NAM  North America     12/26/2022             YCO   \n",
       "2                    EU         Europe      1/18/2022             GNB   \n",
       "3                   NAM  North America      9/16/2022             YND   \n",
       "4                   NAM  North America      2/25/2022             SEE   \n",
       "...                 ...            ...            ...             ...   \n",
       "98614                EU         Europe     12-11-2022             HAA   \n",
       "98615                AF         Africa     10/30/2022             IVA   \n",
       "98616                EU         Europe     09-10-2022             ABC   \n",
       "98617                AF         Africa     10/26/2022             GGN   \n",
       "98618                EU         Europe      4/16/2022             JOK   \n",
       "\n",
       "                Pilot Name Flight Status  \n",
       "0      Fransisco Hazeldine       On Time  \n",
       "1          Marla Parsonage       On Time  \n",
       "2             Rhonda Amber       On Time  \n",
       "3           Kacie Commucci       Delayed  \n",
       "4              Ebonee Tree       On Time  \n",
       "...                    ...           ...  \n",
       "98614     Pammie Kingscote     Cancelled  \n",
       "98615       Dorice Lochran     Cancelled  \n",
       "98616         Gearalt Main       On Time  \n",
       "98617         Judon Chasle     Cancelled  \n",
       "98618      Auguste Tindley       Delayed  \n",
       "\n",
       "[98619 rows x 15 columns]>"
      ]
     },
     "execution_count": 3,
     "metadata": {},
     "output_type": "execute_result"
    }
   ],
   "source": [
    "df.info"
   ]
  },
  {
   "cell_type": "code",
   "execution_count": 4,
   "id": "402cbbe3",
   "metadata": {},
   "outputs": [
    {
     "data": {
      "text/plain": [
       "<bound method NDFrame.describe of       Passenger ID  First Name  Last Name  Gender  Age Nationality  \\\n",
       "0           ABVWIg      Edithe     Leggis  Female   62       Japan   \n",
       "1           jkXXAX      Elwood       Catt    Male   62   Nicaragua   \n",
       "2           CdUz2g       Darby    Felgate    Male   67      Russia   \n",
       "3           BRS38V    Dominica       Pyle  Female   71       China   \n",
       "4           9kvTLo         Bay    Pencost    Male   21       China   \n",
       "...            ...         ...        ...     ...  ...         ...   \n",
       "98614       hnGQ62      Gareth    Mugford    Male   85       China   \n",
       "98615       2omEzh       Kasey   Benedict  Female   19      Russia   \n",
       "98616       VUPiVG      Darrin     Lucken    Male   65   Indonesia   \n",
       "98617       E47NtS       Gayle  Lievesley  Female   34       China   \n",
       "98618       8JYEcz  Wilhelmine     Touret  Female   10      Poland   \n",
       "\n",
       "                      Airport Name Airport Country Code        Country Name  \\\n",
       "0                 Coldfoot Airport                   US       United States   \n",
       "1                Kugluktuk Airport                   CA              Canada   \n",
       "2           Grenoble-Isère Airport                   FR              France   \n",
       "3        Ottawa / Gatineau Airport                   CA              Canada   \n",
       "4                  Gillespie Field                   US       United States   \n",
       "...                            ...                  ...                 ...   \n",
       "98614               Hasvik Airport                   NO              Norway   \n",
       "98615          Ampampamena Airport                   MG          Madagascar   \n",
       "98616  Albacete-Los Llanos Airport                   ES               Spain   \n",
       "98617               Gagnoa Airport                   CI       Côte d'Ivoire   \n",
       "98618          Yoshkar-Ola Airport                   RU  Russian Federation   \n",
       "\n",
       "      Airport Continent     Continents Departure Date Arrival Airport  \\\n",
       "0                   NAM  North America      6/28/2022             CXF   \n",
       "1                   NAM  North America     12/26/2022             YCO   \n",
       "2                    EU         Europe      1/18/2022             GNB   \n",
       "3                   NAM  North America      9/16/2022             YND   \n",
       "4                   NAM  North America      2/25/2022             SEE   \n",
       "...                 ...            ...            ...             ...   \n",
       "98614                EU         Europe     12-11-2022             HAA   \n",
       "98615                AF         Africa     10/30/2022             IVA   \n",
       "98616                EU         Europe     09-10-2022             ABC   \n",
       "98617                AF         Africa     10/26/2022             GGN   \n",
       "98618                EU         Europe      4/16/2022             JOK   \n",
       "\n",
       "                Pilot Name Flight Status  \n",
       "0      Fransisco Hazeldine       On Time  \n",
       "1          Marla Parsonage       On Time  \n",
       "2             Rhonda Amber       On Time  \n",
       "3           Kacie Commucci       Delayed  \n",
       "4              Ebonee Tree       On Time  \n",
       "...                    ...           ...  \n",
       "98614     Pammie Kingscote     Cancelled  \n",
       "98615       Dorice Lochran     Cancelled  \n",
       "98616         Gearalt Main       On Time  \n",
       "98617         Judon Chasle     Cancelled  \n",
       "98618      Auguste Tindley       Delayed  \n",
       "\n",
       "[98619 rows x 15 columns]>"
      ]
     },
     "execution_count": 4,
     "metadata": {},
     "output_type": "execute_result"
    }
   ],
   "source": [
    "df.describe"
   ]
  },
  {
   "cell_type": "code",
   "execution_count": 5,
   "id": "af72812e",
   "metadata": {},
   "outputs": [
    {
     "data": {
      "text/plain": [
       "Passenger ID            0\n",
       "First Name              0\n",
       "Last Name               0\n",
       "Gender                  0\n",
       "Age                     0\n",
       "Nationality             0\n",
       "Airport Name            0\n",
       "Airport Country Code    0\n",
       "Country Name            0\n",
       "Airport Continent       0\n",
       "Continents              0\n",
       "Departure Date          0\n",
       "Arrival Airport         0\n",
       "Pilot Name              0\n",
       "Flight Status           0\n",
       "dtype: int64"
      ]
     },
     "execution_count": 5,
     "metadata": {},
     "output_type": "execute_result"
    }
   ],
   "source": [
    "df.isnull().sum()"
   ]
  },
  {
   "cell_type": "code",
   "execution_count": 6,
   "id": "10b28951",
   "metadata": {},
   "outputs": [
    {
     "data": {
      "text/plain": [
       "<bound method IndexOpsMixin.value_counts of 0        Female\n",
       "1          Male\n",
       "2          Male\n",
       "3        Female\n",
       "4          Male\n",
       "          ...  \n",
       "98614      Male\n",
       "98615    Female\n",
       "98616      Male\n",
       "98617    Female\n",
       "98618    Female\n",
       "Name: Gender, Length: 98619, dtype: object>"
      ]
     },
     "execution_count": 6,
     "metadata": {},
     "output_type": "execute_result"
    }
   ],
   "source": [
    "df['Age'].fillna(df['Age'].mean(),inplace=True)\n",
    "df['Gender'].value_counts"
   ]
  },
  {
   "cell_type": "code",
   "execution_count": 7,
   "id": "0c60adae",
   "metadata": {},
   "outputs": [],
   "source": [
    "df['Gender'].fillna('s',inplace=True)"
   ]
  },
  {
   "cell_type": "code",
   "execution_count": 8,
   "id": "b1a42629",
   "metadata": {},
   "outputs": [
    {
     "data": {
      "text/plain": [
       "Passenger ID            0\n",
       "First Name              0\n",
       "Last Name               0\n",
       "Gender                  0\n",
       "Age                     0\n",
       "Nationality             0\n",
       "Airport Name            0\n",
       "Airport Country Code    0\n",
       "Country Name            0\n",
       "Airport Continent       0\n",
       "Continents              0\n",
       "Departure Date          0\n",
       "Arrival Airport         0\n",
       "Pilot Name              0\n",
       "Flight Status           0\n",
       "dtype: int64"
      ]
     },
     "execution_count": 8,
     "metadata": {},
     "output_type": "execute_result"
    }
   ],
   "source": [
    "df.isnull().sum()"
   ]
  },
  {
   "cell_type": "code",
   "execution_count": 11,
   "id": "8620d05d",
   "metadata": {},
   "outputs": [
    {
     "data": {
      "image/png": "[encoded data removed]",
      "text/plain": [
       "<Figure size 640x480 with 1 Axes>"
      ]
     },
     "metadata": {},
     "output_type": "display_data"
    }
   ],
   "source": [
    "sns.countplot(x=\"Gender\",data=df,hue=\"Gender\")\n",
    "plt.xlabel='Gender'\n",
    "plt.ylabel='count'"
   ]
  },
  {
   "cell_type": "code",
   "execution_count": null,
   "id": "9a7db241",
   "metadata": {},
   "outputs": [],
   "source": []
  }
 ],
 "metadata": {
  "kernelspec": {
   "display_name": "Python 3 (ipykernel)",
   "language": "python",
   "name": "python3"
  },
  "language_info": {
   "codemirror_mode": {
    "name": "ipython",
    "version": 3
   },
   "file_extension": ".py",
   "mimetype": "text/x-python",
   "name": "python",
   "nbconvert_exporter": "python",
   "pygments_lexer": "ipython3",
   "version": "3.11.5"
  }
 },
 "nbformat": 4,
 "nbformat_minor": 5
}
