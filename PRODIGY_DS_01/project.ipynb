import pandas as pd
import numpy as np
import matplotlib as plt
import seaborn as sns
df = pd.read_csv(r'C:\Users\VARSHINI\OneDrive\Desktop\Airline Dataset Updated - v2.csv')
df.head()
<div>
<style scoped>
    .dataframe tbody tr th:only-of-type {
        vertical-align: middle;
    }

    .dataframe tbody tr th {
        vertical-align: top;
    }

    .dataframe thead th {
        text-align: right;
    }
</style>
<table border="1" class="dataframe">
  <thead>
    <tr style="text-align: right;">
      <th></th>
      <th>Passenger ID</th>
      <th>First Name</th>
      <th>Last Name</th>
      <th>Gender</th>
      <th>Age</th>
      <th>Nationality</th>
      <th>Airport Name</th>
      <th>Airport Country Code</th>
      <th>Country Name</th>
      <th>Airport Continent</th>
      <th>Continents</th>
      <th>Departure Date</th>
      <th>Arrival Airport</th>
      <th>Pilot Name</th>
      <th>Flight Status</th>
    </tr>
  </thead>
  <tbody>
    <tr>
      <th>0</th>
      <td>ABVWIg</td>
      <td>Edithe</td>
      <td>Leggis</td>
      <td>Female</td>
      <td>62</td>
      <td>Japan</td>
      <td>Coldfoot Airport</td>
      <td>US</td>
      <td>United States</td>
      <td>NAM</td>
      <td>North America</td>
      <td>6/28/2022</td>
      <td>CXF</td>
      <td>Fransisco Hazeldine</td>
      <td>On Time</td>
    </tr>
    <tr>
      <th>1</th>
      <td>jkXXAX</td>
      <td>Elwood</td>
      <td>Catt</td>
      <td>Male</td>
      <td>62</td>
      <td>Nicaragua</td>
      <td>Kugluktuk Airport</td>
      <td>CA</td>
      <td>Canada</td>
      <td>NAM</td>
      <td>North America</td>
      <td>12/26/2022</td>
      <td>YCO</td>
      <td>Marla Parsonage</td>
      <td>On Time</td>
    </tr>
    <tr>
      <th>2</th>
      <td>CdUz2g</td>
      <td>Darby</td>
      <td>Felgate</td>
      <td>Male</td>
      <td>67</td>
      <td>Russia</td>
      <td>Grenoble-Isère Airport</td>
      <td>FR</td>
      <td>France</td>
      <td>EU</td>
      <td>Europe</td>
      <td>1/18/2022</td>
      <td>GNB</td>
      <td>Rhonda Amber</td>
      <td>On Time</td>
    </tr>
    <tr>
      <th>3</th>
      <td>BRS38V</td>
      <td>Dominica</td>
      <td>Pyle</td>
      <td>Female</td>
      <td>71</td>
      <td>China</td>
      <td>Ottawa / Gatineau Airport</td>
      <td>CA</td>
      <td>Canada</td>
      <td>NAM</td>
      <td>North America</td>
      <td>9/16/2022</td>
      <td>YND</td>
      <td>Kacie Commucci</td>
      <td>Delayed</td>
    </tr>
    <tr>
      <th>4</th>
      <td>9kvTLo</td>
      <td>Bay</td>
      <td>Pencost</td>
      <td>Male</td>
      <td>21</td>
      <td>China</td>
      <td>Gillespie Field</td>
      <td>US</td>
      <td>United States</td>
      <td>NAM</td>
      <td>North America</td>
      <td>2/25/2022</td>
      <td>SEE</td>
      <td>Ebonee Tree</td>
      <td>On Time</td>
    </tr>
  </tbody>
</table>
</div>
df.info
<bound method DataFrame.info of       Passenger ID  First Name  Last Name  Gender  Age Nationality  \
0           ABVWIg      Edithe     Leggis  Female   62       Japan   
1           jkXXAX      Elwood       Catt    Male   62   Nicaragua   
2           CdUz2g       Darby    Felgate    Male   67      Russia   
3           BRS38V    Dominica       Pyle  Female   71       China   
4           9kvTLo         Bay    Pencost    Male   21       China   
...            ...         ...        ...     ...  ...         ...   
98614       hnGQ62      Gareth    Mugford    Male   85       China   
98615       2omEzh       Kasey   Benedict  Female   19      Russia   
98616       VUPiVG      Darrin     Lucken    Male   65   Indonesia   
98617       E47NtS       Gayle  Lievesley  Female   34       China   
98618       8JYEcz  Wilhelmine     Touret  Female   10      Poland   

                      Airport Name Airport Country Code        Country Name  \
0                 Coldfoot Airport                   US       United States   
1                Kugluktuk Airport                   CA              Canada   
2           Grenoble-Isère Airport                   FR              France   
3        Ottawa / Gatineau Airport                   CA              Canada   
4                  Gillespie Field                   US       United States   
...                            ...                  ...                 ...   
98614               Hasvik Airport                   NO              Norway   
98615          Ampampamena Airport                   MG          Madagascar   
98616  Albacete-Los Llanos Airport                   ES               Spain   
98617               Gagnoa Airport                   CI       Côte d'Ivoire   
98618          Yoshkar-Ola Airport                   RU  Russian Federation   

      Airport Continent     Continents Departure Date Arrival Airport  \
0                   NAM  North America      6/28/2022             CXF   
1                   NAM  North America     12/26/2022             YCO   
2                    EU         Europe      1/18/2022             GNB   
3                   NAM  North America      9/16/2022             YND   
4                   NAM  North America      2/25/2022             SEE   
...                 ...            ...            ...             ...   
98614                EU         Europe     12-11-2022             HAA   
98615                AF         Africa     10/30/2022             IVA   
98616                EU         Europe     09-10-2022             ABC   
98617                AF         Africa     10/26/2022             GGN   
98618                EU         Europe      4/16/2022             JOK   

                Pilot Name Flight Status  
0      Fransisco Hazeldine       On Time  
1          Marla Parsonage       On Time  
2             Rhonda Amber       On Time  
3           Kacie Commucci       Delayed  
4              Ebonee Tree       On Time  
...                    ...           ...  
98614     Pammie Kingscote     Cancelled  
98615       Dorice Lochran     Cancelled  
98616         Gearalt Main       On Time  
98617         Judon Chasle     Cancelled  
98618      Auguste Tindley       Delayed  

[98619 rows x 15 columns]>
df.describe()
<div>
<style scoped>
    .dataframe tbody tr th:only-of-type {
        vertical-align: middle;
    }

    .dataframe tbody tr th {
        vertical-align: top;
    }

    .dataframe thead th {
        text-align: right;
    }
</style>
<table border="1" class="dataframe">
  <thead>
    <tr style="text-align: right;">
      <th></th>
      <th>Age</th>
    </tr>
  </thead>
  <tbody>
    <tr>
      <th>count</th>
      <td>98619.000000</td>
    </tr>
    <tr>
      <th>mean</th>
      <td>45.504021</td>
    </tr>
    <tr>
      <th>std</th>
      <td>25.929849</td>
    </tr>
    <tr>
      <th>min</th>
      <td>1.000000</td>
    </tr>
    <tr>
      <th>25%</th>
      <td>23.000000</td>
    </tr>
    <tr>
      <th>50%</th>
      <td>46.000000</td>
    </tr>
    <tr>
      <th>75%</th>
      <td>68.000000</td>
    </tr>
    <tr>
      <th>max</th>
      <td>90.000000</td>
    </tr>
  </tbody>
</table>
</div>
df.isnull().sum()
Passenger ID            0
First Name              0
Last Name               0
Gender                  0
Age                     0
Nationality             0
Airport Name            0
Airport Country Code    0
Country Name            0
Airport Continent       0
Continents              0
Departure Date          0
Arrival Airport         0
Pilot Name              0
Flight Status           0
dtype: int64
df['Age'].fillna(df['Age'].mean(),inplace=True)
df['Gender'].value_counts
<bound method IndexOpsMixin.value_counts of 0        Female
1          Male
2          Male
3        Female
4          Male
          ...  
98614      Male
98615    Female
98616      Male
98617    Female
98618    Female
Name: Gender, Length: 98619, dtype: object>
df['Gender'].fillna('s',inplace=True)
df.isnull().sum()
Passenger ID            0
First Name              0
Last Name               0
Gender                  0
Age                     0
Nationality             0
Airport Name            0
Airport Country Code    0
Country Name            0
Airport Continent       0
Continents              0
Departure Date          0
Arrival Airport         0
Pilot Name              0
Flight Status           0
dtype: int64
sns.countplot(x="Age",data=df,hue="Age")
plt.xlabel='Age'
plt.ylabel='count'

